{
  "nbformat": 4,
  "nbformat_minor": 0,
  "metadata": {
    "colab": {
      "provenance": []
    },
    "kernelspec": {
      "name": "python3",
      "display_name": "Python 3"
    },
    "language_info": {
      "name": "python"
    }
  },
  "cells": [
    {
      "cell_type": "code",
      "source": [
        "#modul untuk dataframe\n",
        "import pandas as pd"
      ],
      "metadata": {
        "id": "XBYqLKE_SX_1"
      },
      "execution_count": null,
      "outputs": []
    },
    {
      "cell_type": "code",
      "source": [
        "#Modul Labelin Sentimen\n",
        "from textblob import TextBlob"
      ],
      "metadata": {
        "id": "AFy9CGcbSiqG"
      },
      "execution_count": null,
      "outputs": []
    },
    {
      "cell_type": "code",
      "source": [
        "#masukan data hasil preprocessing\n",
        "df = pd.read_csv('Coba Label.csv')\n",
        "df.head()"
      ],
      "metadata": {
        "id": "9Jru1E0bSpMc"
      },
      "execution_count": null,
      "outputs": []
    },
    {
      "cell_type": "code",
      "source": [
        "# Membuat list untuk menyimpan hasil analisis\n",
        "results = []\n",
        "\n",
        "# Analisis setiap teks yang sudah diubah ke dalam bahasa Inggris\n",
        "for index, row in translate.iterrows():\n",
        "    teks = row[\"cleaned_Tweet\"]  # Kolom yang sudah ditranslate\n",
        "    blob = TextBlob(teks)\n",
        "    polarity = blob.sentiment.polarity\n",
        "\n",
        "    if polarity > 0.0:\n",
        "        sentiment = \"Positif\"\n",
        "    elif polarity < -0.0:\n",
        "        sentiment = \"Negatif\"\n",
        "    else:\n",
        "        sentiment = \"Netral\"\n",
        "\n",
        "    results.append({\n",
        "        \"cleaned_Tweet\": row[\"cleaned_Tweet\"],  # Kolom tweet sebelum ditranslate\n",
        "        \"polarity\": polarity,\n",
        "        \"sentimen\": sentiment\n",
        "    })"
      ],
      "metadata": {
        "id": "wK1nwVZWTElW"
      },
      "execution_count": null,
      "outputs": []
    },
    {
      "cell_type": "code",
      "source": [
        "# Membuat DataFrame dari hasil analisis\n",
        "translate = pd.DataFrame(results)\n",
        "translate.head()"
      ],
      "metadata": {
        "id": "RBJb13u-TsNq"
      },
      "execution_count": null,
      "outputs": []
    },
    {
      "cell_type": "code",
      "source": [
        "#simpan kedalam csv\n",
        "translate.to_csv('labelin_sentimen-02.csv', sep=',', index=False)"
      ],
      "metadata": {
        "id": "eF9msaUzWf-J"
      },
      "execution_count": null,
      "outputs": []
    },
    {
      "cell_type": "code",
      "source": [
        "#melihat banyak sentimen pada kolom sentimen\n",
        "translate['sentimen'].value_counts()"
      ],
      "metadata": {
        "id": "Y5JbdUvLWgM2"
      },
      "execution_count": null,
      "outputs": []
    }
  ]
}